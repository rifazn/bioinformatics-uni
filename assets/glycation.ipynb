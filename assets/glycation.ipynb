{
 "cells": [
  {
   "cell_type": "code",
   "execution_count": 1,
   "metadata": {},
   "outputs": [],
   "source": [
    "import pandas as pd \n",
    "import numpy as np \n",
    "df = pd.read_csv('Glycation.elm', sep='\\t')"
   ]
  },
  {
   "cell_type": "code",
   "execution_count": 2,
   "metadata": {
    "scrolled": true
   },
   "outputs": [
    {
     "data": {
      "text/html": [
       "<div>\n",
       "<style scoped>\n",
       "    .dataframe tbody tr th:only-of-type {\n",
       "        vertical-align: middle;\n",
       "    }\n",
       "\n",
       "    .dataframe tbody tr th {\n",
       "        vertical-align: top;\n",
       "    }\n",
       "\n",
       "    .dataframe thead th {\n",
       "        text-align: right;\n",
       "    }\n",
       "</style>\n",
       "<table border=\"1\" class=\"dataframe\">\n",
       "  <thead>\n",
       "    <tr style=\"text-align: right;\">\n",
       "      <th></th>\n",
       "      <th>PLMD ID</th>\n",
       "      <th>Uniprot Accession</th>\n",
       "      <th>Position</th>\n",
       "      <th>Type</th>\n",
       "      <th>Sequence</th>\n",
       "      <th>Species</th>\n",
       "      <th>PMIDs</th>\n",
       "    </tr>\n",
       "  </thead>\n",
       "  <tbody>\n",
       "    <tr>\n",
       "      <th>0</th>\n",
       "      <td>PLMD-5</td>\n",
       "      <td>O00141</td>\n",
       "      <td>41</td>\n",
       "      <td>Glycation</td>\n",
       "      <td>MTVKTEAAKGTLTYSRMRGMVAILIAFMKQRRMGLNDFIQKIANNS...</td>\n",
       "      <td>Homo sapiens</td>\n",
       "      <td>21612289</td>\n",
       "    </tr>\n",
       "    <tr>\n",
       "      <th>1</th>\n",
       "      <td>PLMD-17</td>\n",
       "      <td>O00186</td>\n",
       "      <td>19</td>\n",
       "      <td>Glycation</td>\n",
       "      <td>MAPPVAERGLKSVVWQKIKATVFDDCKKEGEWKIMLLDEFTTKLLA...</td>\n",
       "      <td>Homo sapiens</td>\n",
       "      <td>21612289</td>\n",
       "    </tr>\n",
       "    <tr>\n",
       "      <th>2</th>\n",
       "      <td>PLMD-17</td>\n",
       "      <td>O00186</td>\n",
       "      <td>577</td>\n",
       "      <td>Glycation</td>\n",
       "      <td>MAPPVAERGLKSVVWQKIKATVFDDCKKEGEWKIMLLDEFTTKLLA...</td>\n",
       "      <td>Homo sapiens</td>\n",
       "      <td>21612289</td>\n",
       "    </tr>\n",
       "    <tr>\n",
       "      <th>3</th>\n",
       "      <td>PLMD-27</td>\n",
       "      <td>O00220</td>\n",
       "      <td>370</td>\n",
       "      <td>Glycation</td>\n",
       "      <td>MAPPPARVHLGAFLAVTPNPGSAASGTEAAAATPSKVWGSSAGRIE...</td>\n",
       "      <td>Homo sapiens</td>\n",
       "      <td>21612289</td>\n",
       "    </tr>\n",
       "    <tr>\n",
       "      <th>4</th>\n",
       "      <td>PLMD-34</td>\n",
       "      <td>O00238</td>\n",
       "      <td>202</td>\n",
       "      <td>Glycation</td>\n",
       "      <td>MLLRSAGKLNVGTKKEDGESTAPTPRPKVLRCKCHHHCPEDSVNNI...</td>\n",
       "      <td>Homo sapiens</td>\n",
       "      <td>21612289</td>\n",
       "    </tr>\n",
       "  </tbody>\n",
       "</table>\n",
       "</div>"
      ],
      "text/plain": [
       "   PLMD ID Uniprot Accession  Position       Type  \\\n",
       "0   PLMD-5            O00141        41  Glycation   \n",
       "1  PLMD-17            O00186        19  Glycation   \n",
       "2  PLMD-17            O00186       577  Glycation   \n",
       "3  PLMD-27            O00220       370  Glycation   \n",
       "4  PLMD-34            O00238       202  Glycation   \n",
       "\n",
       "                                            Sequence       Species     PMIDs  \n",
       "0  MTVKTEAAKGTLTYSRMRGMVAILIAFMKQRRMGLNDFIQKIANNS...  Homo sapiens  21612289  \n",
       "1  MAPPVAERGLKSVVWQKIKATVFDDCKKEGEWKIMLLDEFTTKLLA...  Homo sapiens  21612289  \n",
       "2  MAPPVAERGLKSVVWQKIKATVFDDCKKEGEWKIMLLDEFTTKLLA...  Homo sapiens  21612289  \n",
       "3  MAPPPARVHLGAFLAVTPNPGSAASGTEAAAATPSKVWGSSAGRIE...  Homo sapiens  21612289  \n",
       "4  MLLRSAGKLNVGTKKEDGESTAPTPRPKVLRCKCHHHCPEDSVNNI...  Homo sapiens  21612289  "
      ]
     },
     "execution_count": 2,
     "metadata": {},
     "output_type": "execute_result"
    }
   ],
   "source": [
    "df.head()"
   ]
  },
  {
   "cell_type": "code",
   "execution_count": 3,
   "metadata": {},
   "outputs": [],
   "source": [
    "data= np.array(df)\n",
    "data = data[:100]"
   ]
  },
  {
   "cell_type": "code",
   "execution_count": 4,
   "metadata": {},
   "outputs": [
    {
     "name": "stdout",
     "output_type": "stream",
     "text": [
      "GLNDFIQKIANNSYA\n",
      "SVVWQKIKATVFDDC\n",
      "KKLLDDIKMLNKPKD\n",
      "TLMLFFDKFANIVPF\n",
      "LVQRTIAKQIQMVKQ\n",
      "AKQIQMVKQIGKGRY\n",
      "AKSHPPDKWAQGAGA\n",
      "WAQGAGAKGYLGAVK\n",
      "RISQGPYKGYIGVVK\n",
      "KGYIGVVKDATESTA\n",
      "AATAAFNKDALLNWL\n",
      "NEMKAEIKMFFETNE\n",
      "QNLWDAFKAVCRGKF\n",
      "ALDLSQHKGVAVRRV\n",
      "KIPYSFFKTALDDRK\n",
      "KTALDDRKEGAVLAK\n",
      "IAHSLLYKKVNEAQY\n",
      "AHSLLYKKVNEAQYR\n",
      "NFTEDCPKSLLIPYL\n",
      "PYLDNLVKHLHSIMV\n",
      "KSSYNLDKSVHITKL\n",
      "IISEEERKTRSAPFF\n",
      "EQLEECRKSDAEQYL\n",
      "SLAYHEWKMALFKPA\n",
      "SNLGHLNKPSIQALI\n",
      "RIAKRGRKLVDYDSA\n",
      "GILPILVKCLERDDN\n",
      "GQHSKPFKEFVEACL\n",
      "KSGGHTPKALPGPGG\n",
      "PGGSMGLKNGAGNGA\n",
      "LQVKIPSKEEEADMS\n",
      "KQAGLVVKLLMKLNG\n",
      "LLTVCFVKRNRGGKY\n",
      "ENVSYQDKGNYRCTA\n",
      "SKCDSHLKHSLKLSW\n",
      "IVEFEGNKEEPGRWE\n",
      "LTRVQGKKTTVILPL\n",
      "LEKELLEKKPWQLQG\n",
      "PKKKKKQKPQEVPQE\n",
      "DPSISFSKPKKKKSF\n",
      "SISFSKPKKKKSFSK\n",
      "SLICRAVKATFNPAQ\n",
      "QLVHEGYKFMFDEKL\n",
      "YKFMFDEKLVTVWSA\n",
      "KLKDIMQKESLYWLT\n",
      "LVNAQQAKGSSVHVL\n",
      "SLNEGYAKYFDAATT\n",
      "VYDKGCVKDVDEGLE\n",
      "RTSFKERKEEDSHTT\n",
      "VRFLSDRKNPVCREM\n",
      "HGKAVEGKGCYTVDN\n",
      "ALVKVLDKWPLRSGG\n",
      "NFFSSFLKEKLNDTY\n",
      "FSSFLKEKLNDTYVN\n",
      "MINAMDSKIRSLEQR\n",
      "HLGCFKCKSCGKVLT\n",
      "FKCKSCGKVLTGEYI\n",
      "PDPSETPKIETDHWP\n",
      "VDEAHRLKNDDSLLY\n",
      "LLRKGLEKKGAVTGG\n",
      "KGKDDTWKWGTSFQG\n",
      "GVIHRDVKPSNILLD\n",
      "INVWDVLKGSRVSIL\n",
      "IVSCPYVKTVATTKT\n",
      "QTRELKLKYLIIENF\n",
      "GTQGAISKETKKKYY\n",
      "GIIIQGGKHRENKVF\n",
      "AFQGAVQKELQHIVG\n",
      "LKEFPRLKSELEDNI\n",
      "ALADGVQKVHKGTTI\n",
      "ETAEELKKVAQELEE\n",
      "VAQELEEKLNILNNN\n",
      "NILNNNYKILQADQE\n",
      "ASNFYFNKTKGFYCL\n",
      "VLNAVLQKKKDIKFK\n",
      "LNAVLQKKKDIKFKK\n",
      "VQDFQEDKELFRYCT\n",
      "KWEGGVNKMFHGIQD\n",
      "AKRLQEEKEKVDKQY\n",
      "EQIQILAKYSAADCP\n",
      "VTKNSLEKILPQLKC\n",
      "EKILPQLKCHFTWNL\n",
      "ELCEVIGKGPFSVVR\n",
      "SHISESAKDLVRRML\n",
      "GVGRRHIKNTLITKH\n",
      "QNLLHSEKRDKKSPL\n",
      "LHSEKRDKKSPLIES\n",
      "NQSQKTFKNKETLII\n",
      "EPITPHSKPILVRAV\n",
      "GTTPVTRKAAAQQLG\n",
      "LGTRRMAKKNAIVRS\n",
      "GTRRMAKKNAIVRSL\n",
      "CEVKQIAKAINERYL\n",
      "PARSATPKVRLVEPH\n",
      "HSPSPSSKFSTKGLC\n",
      "PSSKFSTKGLCKKKL\n",
      "ETHFQGDKESGGTGE\n",
      "TGEGLERKDASLLDN\n",
      "HCLENVDKALQFLKE\n",
      "NKEKKSAKDALLLWC\n",
      "100\n"
     ]
    }
   ],
   "source": [
    "processed_ones=[]\n",
    "radius=7\n",
    "i = 0\n",
    "for row in data:\n",
    "    pattern=\"\"\n",
    "    center = row[2]-1\n",
    "    row[3]= 1\n",
    "    if center < radius:\n",
    "        pattern = (radius - center) * 'X' + row[4][0:center] + row[4][center:center+radius ]\n",
    "    elif len(row[4])- row[2]<= radius:\n",
    "        pattern = row[4][center - radius:len(row[4])] + (radius - (len(row[4])-center-1)*\"X\")\n",
    "    else:\n",
    "        pattern = row[4][center-radius:center+radius+1]\n",
    "    i += 1\n",
    "    processed_ones.append([row[0], pattern, 1])\n",
    "    print(pattern)\n",
    "print(i)"
   ]
  },
  {
   "cell_type": "code",
   "execution_count": 5,
   "metadata": {},
   "outputs": [
    {
     "name": "stdout",
     "output_type": "stream",
     "text": [
      "XXXXXXXXXMTVK\n"
     ]
    }
   ],
   "source": [
    "row = data[0]\n",
    "radius = 13\n",
    "center = 4\n",
    "pattern = (radius-center)*'X' + row[4][0:center]\n",
    "print(pattern)"
   ]
  },
  {
   "cell_type": "code",
   "execution_count": 6,
   "metadata": {},
   "outputs": [
    {
     "name": "stdout",
     "output_type": "stream",
     "text": [
      "T\n"
     ]
    },
    {
     "data": {
      "text/plain": [
       "13"
      ]
     },
     "execution_count": 6,
     "metadata": {},
     "output_type": "execute_result"
    }
   ],
   "source": [
    "print(row[4][center])\n",
    "len(pattern)"
   ]
  },
  {
   "cell_type": "code",
   "execution_count": null,
   "metadata": {},
   "outputs": [],
   "source": []
  }
 ],
 "metadata": {
  "kernelspec": {
   "display_name": "Python 3",
   "language": "python",
   "name": "python3"
  },
  "language_info": {
   "codemirror_mode": {
    "name": "ipython",
    "version": 3
   },
   "file_extension": ".py",
   "mimetype": "text/x-python",
   "name": "python",
   "nbconvert_exporter": "python",
   "pygments_lexer": "ipython3",
   "version": "3.7.1"
  }
 },
 "nbformat": 4,
 "nbformat_minor": 2
}
