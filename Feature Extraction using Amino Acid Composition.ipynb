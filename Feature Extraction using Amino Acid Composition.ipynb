{
 "cells": [
  {
   "cell_type": "code",
   "execution_count": 9,
   "metadata": {},
   "outputs": [],
   "source": [
    "# Feature extraction using Amino Acid Composition\n",
    "# \n",
    "# Done as part of an assignment for the \"Intro. to Bioinformatics\" course in UIU\n",
    "#\n",
    "# By Team LegIt:\n",
    "# Rifaz Nahiyan, Sourav Saha\n",
    "# Rafid Uddin Bhuiyan, Nadira Anjum\n",
    "\n",
    "def feature_extraction_using_amino_acid_composition(protein_sequence: str, n: int) -> dict:\n",
    "    \"\"\"\n",
    "    protein_sequence: The protein sequence with Amino Acids in 1-Letter notation.\n",
    "    n: Length of the protein_sequence.\n",
    "    \n",
    "    Return: A dictionary of length 20 in which the keys are Amino Acids in their 1-Letter notation.\"\"\"\n",
    "    \n",
    "    prots = \"ARNDCEQGHILKMFPSTWYV\"\n",
    "    composition = dict()\n",
    "    for amino_acid in prots:\n",
    "        composition[amino_acid] = round(protein_sequence.count(amino_acid) / n, ndigits=5)\n",
    "    return composition"
   ]
  },
  {
   "cell_type": "code",
   "execution_count": 10,
   "metadata": {},
   "outputs": [
    {
     "data": {
      "text/plain": [
       "{'A': 0.13333,\n",
       " 'R': 0.0,\n",
       " 'N': 0.0,\n",
       " 'D': 0.0,\n",
       " 'C': 0.0,\n",
       " 'E': 0.06667,\n",
       " 'Q': 0.2,\n",
       " 'G': 0.13333,\n",
       " 'H': 0.06667,\n",
       " 'I': 0.06667,\n",
       " 'L': 0.06667,\n",
       " 'K': 0.06667,\n",
       " 'M': 0.0,\n",
       " 'F': 0.06667,\n",
       " 'P': 0.0,\n",
       " 'S': 0.0,\n",
       " 'T': 0.0,\n",
       " 'W': 0.0,\n",
       " 'Y': 0.0,\n",
       " 'V': 0.13333}"
      ]
     },
     "execution_count": 10,
     "metadata": {},
     "output_type": "execute_result"
    }
   ],
   "source": [
    "feature_extraction_using_amino_acid_composition('AFQGAVQKELQHIVG', len('AFQGAVQKELQHIVG'))"
   ]
  },
  {
   "cell_type": "code",
   "execution_count": null,
   "metadata": {},
   "outputs": [],
   "source": []
  }
 ],
 "metadata": {
  "kernelspec": {
   "display_name": "Python 3",
   "language": "python",
   "name": "python3"
  },
  "language_info": {
   "codemirror_mode": {
    "name": "ipython",
    "version": 3
   },
   "file_extension": ".py",
   "mimetype": "text/x-python",
   "name": "python",
   "nbconvert_exporter": "python",
   "pygments_lexer": "ipython3",
   "version": "3.7.3"
  }
 },
 "nbformat": 4,
 "nbformat_minor": 2
}
